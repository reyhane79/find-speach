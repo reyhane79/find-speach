{
 "cells": [
  {
   "cell_type": "markdown",
   "metadata": {},
   "source": [
    "# Find Pitch Contour\n",
    "In this project, we will process the following sentence spoken in both English and Persian:\n",
    "\n",
    "\"In many examples that we discuss in this book, it is necessary to change the sampling rate of a discrete-time signal.\" \n",
    "\"در بسیاری از مثال‌هایی که در این کتاب به آن‌ها پرداخته‌ایم، تغییر نرخ نمونه‌برداری از یک سیگنال زمان گسسته ضروری است.\"\n",
    "(page 47, line5)\n",
    "The English voice is stored in a file named `voice-en.mp3` and the Persian voice is in `voice-fa.mp3`.\n",
    "\n",
    "Our goal is to obtain the pitch contour of these voice signals using three different methods:\n",
    "1. Average Magnitude Difference Function (AMDF)\n",
    "2. Autocorrelation\n",
    "3. Cepstrum"
   ]
  },
  {
   "cell_type": "markdown",
   "metadata": {},
   "source": [
    "## Loading the Audio Files\n",
    "First, we need to load the audio files. We'll use the `librosa` library for this. `librosa` is a Python library for music and audio analysis. It provides the building blocks necessary to create music information retrieval systems."
   ]
  },
  {
   "cell_type": "code",
   "execution_count": 1,
   "metadata": {},
   "outputs": [],
   "source": [
    "# Import the necessary libraries\n",
    "import librosa\n",
    "import numpy as np\n",
    "import matplotlib.pyplot as plt\n",
    "\n",
    "# Step 1: Loading the audio files\n",
    "\n",
    "# English voice\n",
    "audio_file_en = 'voice-en.mp3'\n",
    "signal_en, sr_en = librosa.load(audio_file_en, sr=None)  # sr=None to preserve the original sampling rate\n",
    "\n",
    "# Persian voice\n",
    "audio_file_fa = 'voice-fa.mp3'\n",
    "signal_fa, sr_fa = librosa.load(audio_file_fa, sr=None)\n"
   ]
  },
  {
   "cell_type": "code",
   "execution_count": null,
   "metadata": {},
   "outputs": [],
   "source": []
  },
  {
   "cell_type": "code",
   "execution_count": null,
   "metadata": {},
   "outputs": [],
   "source": []
  }
 ],
 "metadata": {
  "kernelspec": {
   "display_name": "uni",
   "language": "python",
   "name": "python3"
  },
  "language_info": {
   "codemirror_mode": {
    "name": "ipython",
    "version": 3
   },
   "file_extension": ".py",
   "mimetype": "text/x-python",
   "name": "python",
   "nbconvert_exporter": "python",
   "pygments_lexer": "ipython3",
   "version": "3.11.5"
  },
  "orig_nbformat": 4
 },
 "nbformat": 4,
 "nbformat_minor": 2
}
